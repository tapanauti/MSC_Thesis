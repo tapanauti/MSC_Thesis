{
  "nbformat": 4,
  "nbformat_minor": 0,
  "metadata": {
    "colab": {
      "name": "Demo.ipynb",
      "provenance": [],
      "collapsed_sections": []
    },
    "kernelspec": {
      "name": "python3",
      "display_name": "Python 3"
    },
    "language_info": {
      "name": "python"
    },
    "accelerator": "GPU"
  },
  "cells": [
    {
      "cell_type": "code",
      "metadata": {
        "id": "HeWpGJlKS0QX"
      },
      "source": [
        "import glob\n",
        "import json\n",
        "\n",
        "#following are the preprocessing steps to get all the data in a single string.\n",
        "file = []\n",
        "tunes = []\n",
        "alltunes = []\n",
        "# change the location of the dataset accordingly when running.\n",
        "for i in glob.glob(\"/content/drive/MyDrive/Thesis/Data_Final/*.json\"): \n",
        "  with open(i,\"r\") as x:\n",
        "    file = json.load(x)\n",
        "    tunes.append(file[\"rows\"])\n"
      ],
      "execution_count": 1,
      "outputs": []
    },
    {
      "cell_type": "code",
      "metadata": {
        "id": "PoDcv5zetAAR"
      },
      "source": [
        "alltunes = [ i for j in tunes for i in j]"
      ],
      "execution_count": 2,
      "outputs": []
    },
    {
      "cell_type": "code",
      "metadata": {
        "colab": {
          "base_uri": "https://localhost:8080/"
        },
        "id": "frTpGD5_tb5c",
        "outputId": "f342b357-4c74-435d-b8c4-4df3a8e87aea"
      },
      "source": [
        "len(alltunes)"
      ],
      "execution_count": 3,
      "outputs": [
        {
          "output_type": "execute_result",
          "data": {
            "text/plain": [
              "20458"
            ]
          },
          "metadata": {},
          "execution_count": 3
        }
      ]
    },
    {
      "cell_type": "code",
      "metadata": {
        "id": "HiR-KWVfxKZ3"
      },
      "source": [
        "demo = [[j for i in l for j in i ]for l in alltunes]"
      ],
      "execution_count": 4,
      "outputs": []
    },
    {
      "cell_type": "code",
      "metadata": {
        "id": "A-EjNKj3Bbue"
      },
      "source": [
        "list = ['a','b','c','d','e','f','g','z','A','B','C','D','E','F','G','1','2','3','4','5','6','7',\"'\",'^',',','_','/','=']"
      ],
      "execution_count": 5,
      "outputs": []
    },
    {
      "cell_type": "code",
      "metadata": {
        "id": "JGQB-xa2F5c3"
      },
      "source": [
        "filter = [[] for _ in range(len(demo))]\n",
        "for i in range(len(demo)):\n",
        "  for j in range(len(demo[i])):\n",
        "    if demo[i][j] in list:\n",
        "      filter[i].append(demo[i][j])\n"
      ],
      "execution_count": 6,
      "outputs": []
    },
    {
      "cell_type": "code",
      "metadata": {
        "id": "TlRbmwB2zl4G"
      },
      "source": [
        "list = [[] for _ in range(len(filter))]\n",
        "for i in range(len(filter)):\n",
        "    list[i].append(\"\".join(filter[i]))\n",
        "    "
      ],
      "execution_count": 7,
      "outputs": []
    },
    {
      "cell_type": "code",
      "metadata": {
        "id": "K6fUQ-kS-tAV"
      },
      "source": [
        "musicdata = [ i for j in list for i in j]\n",
        "\n",
        "final_tunes =(''.join(musicdata))\n",
        "\n"
      ],
      "execution_count": 8,
      "outputs": []
    },
    {
      "cell_type": "code",
      "metadata": {
        "id": "mbmq3jPV-cM_"
      },
      "source": [
        "import sys\n",
        "import matplotlib.pyplot as plt\n",
        "import numpy as np\n",
        "import pickle\n",
        "import tensorflow as tf\n",
        "import glob\n",
        "from sklearn.preprocessing import MinMaxScaler\n",
        "from __future__ import print_function, division\n",
        "from keras.layers import Input, Dense, Reshape, Dropout, Bidirectional,LSTM,Embedding\n",
        "from keras.layers import BatchNormalization, Activation, ZeroPadding2D\n",
        "from keras.layers import LeakyReLU\n",
        "from keras.models import Sequential, Model\n",
        "from tensorflow.keras.optimizers import Adam\n",
        "import random\n",
        "random.seed(0)\n"
      ],
      "execution_count": 9,
      "outputs": []
    },
    {
      "cell_type": "code",
      "metadata": {
        "colab": {
          "base_uri": "https://localhost:8080/"
        },
        "id": "778XRHFKBt8M",
        "outputId": "cd166561-1732-4ff7-db69-0b74007a1e75"
      },
      "source": [
        "# get the unique characters from the string\n",
        "notes = sorted(set(final_tunes))\n",
        "print(\"The length of the unique characters is :\", len(notes))"
      ],
      "execution_count": 10,
      "outputs": [
        {
          "output_type": "stream",
          "name": "stdout",
          "text": [
            "The length of the unique characters is : 28\n"
          ]
        }
      ]
    },
    {
      "cell_type": "code",
      "metadata": {
        "id": "XmLJOphmBw21"
      },
      "source": [
        "def prepare_sequences(tune):\n",
        "    \"\"\" Prepare the sequences used by the Neural Network \"\"\"\n",
        "    vocab = sorted(set(tune))\n",
        "    length = len(vocab)\n",
        "\n",
        "    \n",
        "    convert2int = {u:i for i, u in enumerate(vocab)}\n",
        "    input = []\n",
        "    output = []\n",
        "\n",
        "    # create sequences to pass to model\n",
        "    for i in range(0, len(tune) - length, 1):\n",
        "        seq_input = tune[i:i + length]\n",
        "        seq_output = tune[i + length]\n",
        "        input.append([convert2int[char] for char in seq_input])\n",
        "        output.append(convert2int[seq_output])\n",
        "\n",
        "    char_length = len(input)\n",
        "\n",
        "    # Reshape for passing to LSTM layer\n",
        "    input = np.reshape(input, (char_length, length, 1))\n",
        "\n",
        "    #vectorizing the data between 0 to 1\n",
        "\n",
        "    maxNote = np.percentile(input,95)\n",
        "    minNote = np.percentile(input,5)\n",
        "\n",
        "    input = -1 + 2*(input - minNote)/(maxNote - minNote)\n",
        "\n",
        "\n",
        "    return (input, output,minNote,maxNote)"
      ],
      "execution_count": 11,
      "outputs": []
    },
    {
      "cell_type": "code",
      "metadata": {
        "id": "e-UtXUBBBx0e"
      },
      "source": [
        "class GAN():\n",
        "    def __init__(self, rows):\n",
        "        self.length = rows\n",
        "        self.shape = (self.length, 1)\n",
        "        self.latent_dimension = 100\n",
        "        self.discriminator_loss = []\n",
        "        self.generator_loss =[]\n",
        "        \n",
        "        optimizer = Adam(0.0002, 0.5)\n",
        "\n",
        "        # Build and compile the discriminator\n",
        "        self.discriminator = self.build_discriminator()\n",
        "        self.discriminator.compile(loss='binary_crossentropy', optimizer=optimizer, metrics=['accuracy'])\n",
        "        \n",
        "        # Build the generator\n",
        "        self.generator = self.build_generator()\n",
        "\n",
        "        # The generator takes noise as input and generates note sequences\n",
        "        z = Input(shape=(1,self.latent_dimension))\n",
        "        sequence = self.generator(z)\n",
        "\n",
        "        # Combined Model\n",
        "        self.discriminator.trainable = False\n",
        "\n",
        "        # The discriminator takes generated images as input and determines validity\n",
        "        validity = self.discriminator(sequence)\n",
        "\n",
        "        self.combined = Model(z, validity)\n",
        "        self.combined.compile(loss='binary_crossentropy', optimizer=optimizer)\n",
        "\n",
        "   \n",
        "    \n",
        "    def build_discriminator(self):\n",
        "        model = Sequential()\n",
        "        model.add(LSTM(512,return_sequences=True,input_shape = self.shape))\n",
        "        model.add(Bidirectional(LSTM(512)))\n",
        "        model.add(Dense(512))\n",
        "        model.add(LeakyReLU(alpha=0.2))\n",
        "        model.add(Dense(256))\n",
        "        model.add(LeakyReLU(alpha=0.2))\n",
        "        model.add(Dense(1, activation='sigmoid'))\n",
        "        model.summary()\n",
        "        seq = Input(shape=self.shape)\n",
        "        validity = model(seq)\n",
        "\n",
        "        return Model(seq, validity)                \n",
        "\n",
        "    def build_generator(self):\n",
        "        model = Sequential()\n",
        "        model.add(LSTM(512,input_shape = (1,self.latent_dimension),return_sequences=True))\n",
        "        model.add(Bidirectional(LSTM(512)))\n",
        "        model.add(Dropout(0.6))\n",
        "        model.add(Dense(512))\n",
        "        model.add(LeakyReLU(alpha=0.2))\n",
        "        model.add(Dense(np.prod(self.shape), activation='tanh'))\n",
        "        model.add(Reshape(self.shape))\n",
        "        model.summary()\n",
        "        \n",
        "        noise = Input(shape=(1,self.latent_dimension))\n",
        "        seq = model(noise)\n",
        "\n",
        "        return Model(noise, seq)\n",
        "\n",
        "    def train(self,final_tunes, epochs, batch_size=60, sample_interval=50):\n",
        "\n",
        "        # Load and convert the data\n",
        "        notes = final_tunes\n",
        "        n_vocab = len(set(final_tunes))\n",
        "        X_train, y_train,min,max = prepare_sequences(notes)\n",
        "        # Training the model\n",
        "        for epoch in range(epochs+1):\n",
        "          for _ in range(1):\n",
        "            dloss = self.train_discriminator(X_train,batch_size)\n",
        "          gloss = self.train_generator(batch_size)\n",
        "\n",
        "          if(epoch  %  sample_interval):\n",
        "            self.discriminator_loss.append(dloss[0])\n",
        "            self.generator_loss.append(gloss)\n",
        "\n",
        "            # Print the progress and save into loss lists\n",
        "          if epoch % sample_interval == 0:\n",
        "            print (\"%d [D loss: %f, acc.: %.2f%%] [G loss: %f]\" % (epoch, dloss[0], 100*dloss[1], gloss))\n",
        "        \n",
        "        op = self.generate(notes,min,max)\n",
        "        self.plot_loss()\n",
        "        return op\n",
        "\n",
        "    def train_discriminator(self, X_real, batch_size):\n",
        "        half_batch = batch_size // 2\n",
        "\n",
        "        discriminator_indices = np.random.randint(0, X_real.shape[0], half_batch)\n",
        "        discriminator_train_imgs = X_real[discriminator_indices]\n",
        "\n",
        "        noise = np.random.normal(0, 1, (half_batch, 1,self.latent_dimension))\n",
        "        generated_imgs = self.generator.predict(noise)\n",
        "\n",
        "        discriminator_loss_real = self.discriminator.train_on_batch(discriminator_train_imgs, np.ones([half_batch, 1]))\n",
        "        discriminator_loss_gen = self.discriminator.train_on_batch(generated_imgs, np.zeros([half_batch, 1]))\n",
        "        # average the two losses\n",
        "        discriminator_loss = np.add(discriminator_loss_real, discriminator_loss_gen) / 2\n",
        "\n",
        "        return discriminator_loss\n",
        "\n",
        "    def train_generator(self, batch_size):\n",
        "        noise = np.random.normal(0, 1, (batch_size, 1,self.latent_dimension))\n",
        "        valid_y = np.array([1] * batch_size)  # move generator towards desired validity\n",
        "\n",
        "        generator_loss = self.combined.train_on_batch(noise, valid_y)\n",
        "        return generator_loss\n",
        "\n",
        "    def generate(self, input_notes,min,max):\n",
        "        # Get pitch names and store in a dictionary\n",
        "        notes = input_notes\n",
        "        final = []\n",
        "        pitchnames = sorted(set(item for item in notes))\n",
        "        idx2char = dict((number, note) for number, note in enumerate(pitchnames))\n",
        "        # Use random noise to generate sequences\n",
        "        noise = np.random.normal(0, 1, (20,1,100))\n",
        "        predictions = self.generator.predict(noise)\n",
        "        predictions = 0.5 *(max-min)*(predictions+1) + min\n",
        "\n",
        "        predictions = np.around(predictions,0).astype(np.int32)\n",
        "        print('pred:',predictions)\n",
        "        gan.combined.save('combined.h5')\n",
        "        gan.generator.save('generator.h5')\n",
        "        gan.discriminator.save('discriminator.h5')\n",
        "        np.save(\"generated_notes.npy\", predictions)\n",
        "        return predictions\n",
        "        \n",
        "\n",
        "\n",
        "    def plot_loss(self):\n",
        "        plt.plot(self.discrminator_loss, c='red')\n",
        "        plt.plot(self.generator_loss, c='blue')\n",
        "        plt.title(\"GAN Loss per Epoch\")\n",
        "        plt.legend(['Discriminator', 'Generator'])\n",
        "        plt.xlabel('Epoch')\n",
        "        plt.ylabel('Loss')\n",
        "        plt.savefig('GAN_Loss_per_Epoch_final.png', transparent=True)\n",
        "        plt.close()\n",
        "\n",
        "if __name__ == '__main__':\n",
        "  gan = GAN(rows=len(notes))    \n",
        "  op = gan.train(final_tunes,epochs=4000, sample_interval=250)"
      ],
      "execution_count": null,
      "outputs": []
    },
    {
      "cell_type": "code",
      "metadata": {
        "colab": {
          "base_uri": "https://localhost:8080/",
          "height": 201
        },
        "id": "CQp5msWnaTJ1",
        "outputId": "aafc6cf8-5167-4043-8c01-5cf5af098dd9"
      },
      "source": [
        "tf.keras.utils.plot_model(gan.generator, to_file='imagegen.png', show_shapes=True)"
      ],
      "execution_count": null,
      "outputs": [
        {
          "output_type": "execute_result",
          "data": {
            "image/png": "[encoded data removed]",
            "text/plain": [
              "<IPython.core.display.Image object>"
            ]
          },
          "metadata": {},
          "execution_count": 26
        }
      ]
    },
    {
      "cell_type": "code",
      "metadata": {
        "id": "t8fvK7ItEWI4"
      },
      "source": [
        "pitchnames = sorted(set(item for item in final_tunes))\n",
        "convert = dict((number, note) for number, note in enumerate(pitchnames))\n",
        "final = []\n",
        "for i in range(len(op)):\n",
        "  for j in range(len(op[i])):\n",
        "    z = op[i][j]\n",
        "    final.append(convert[z[0]])"
      ],
      "execution_count": null,
      "outputs": []
    },
    {
      "cell_type": "code",
      "metadata": {
        "id": "zD_PADJHIfzu"
      },
      "source": [
        "pitchnames = sorted(set(item for item in final_tunes))\n",
        "convert = dict((number, note) for number, note in enumerate(pitchnames))\n",
        "final = []\n",
        "for i in op[0]: # to get all string replace the o with numbers from 0 to 19 and you'll get 19 strings in total\n",
        "  final.append(convert[i[0]])\n"
      ],
      "execution_count": null,
      "outputs": []
    },
    {
      "cell_type": "code",
      "metadata": {
        "colab": {
          "base_uri": "https://localhost:8080/"
        },
        "id": "UmKbX7wuEWKm",
        "outputId": "6552489e-8d83-4e4e-86d7-e1745d6d5fc2"
      },
      "source": [
        "print(final)"
      ],
      "execution_count": null,
      "outputs": [
        {
          "output_type": "stream",
          "text": [
            "['b', 'B', '7', 'e', 'G', 'f', '2', '^', 'a', '_', 'G', 'G', '=', 'c', '4', 'B', 'G', 'a', 'E', '4', 'F', '3', 'e', 'F', '6', 'F', 'D', 'd', 'b', 'C', '7', 'e', 'G', 'f', '2', '^', 'a', '^', 'G', 'G', '=', 'c', '4', 'B', 'G', 'b', 'E', '5', 'F', '3', 'e', 'F', '6', 'E', 'C', 'd', 'a', 'C', '7', 'e', 'G', 'f', '2', '^', 'a', '_', 'G', 'G', '=', 'c', '4', 'C', 'G', 'b', 'E', '5', 'F', '3', 'e', 'G', '6', 'E', 'C', 'd', 'a', 'D', '7', 'e', '^', 'f', '2', '^', 'a', '_', 'G', 'E', '=', 'd', '4', 'C', '^', 'c', 'F', '5', 'G', '3', 'e', '^', '7', 'D', 'C', 'd', '_', 'B', '6', 'e', 'F', 'f', '2', 'G', 'a', '_', '^', 'G', 'A', 'd', '4', 'D', 'F', 'a', 'E', '4', 'G', '4', 'e', '^', '7', 'D', 'D', 'd', 'a', 'C', '7', 'e', '^', 'f', '2', '^', 'a', '_', 'G', 'G', 'A', 'c', '4', 'C', 'G', 'b', 'E', '5', 'F', '3', 'e', 'G', '6', 'D', 'C', 'd', 'a', 'B', '7', 'e', 'G', 'f', '2', '^', 'a', '_', '^', 'G', 'A', 'c', '4', 'C', 'G', 'a', 'E', '4', 'F', '3', 'e', 'G', '6', 'E', 'D', 'd', 'b', 'C', '7', 'e', '^', 'f', '2', '^', 'a', '^', 'G', 'G', '=', 'c', '4', 'B', 'G', 'b', 'E', '5', 'F', '3', 'e', 'G', '6', 'E', 'C', 'd', 'F', 'A', '5', 'd', 'D', 'e', '2', 'F', 'a', 'a', '_', 'G', 'C', 'd', '5', 'E', 'D', 'a', 'E', '5', '^', '4', 'e', '^', 'A', 'C', 'E', 'c', '^', '_', '=', 'e', 'a', 'f', '2', 'F', 'a', 'E', 'F', 'B', 'A', 'b', '4', 'D', 'F', 'd', '^', '5', 'a', '6', 'e', 'a', 'A', 'C', 'E', 'd', 'C', 'C', 'C', 'E', 'D', 'a', '2', '=', '_', '6', 'D', 'B', 'F', 'G', '6', 'C', '7', 'b', 'F', '7', 'G', 'C', 'b', '_', 'G', 'G', '^', 'b', 'a', 'B', '7', 'e', 'G', 'f', '2', '^', 'a', '_', 'G', 'G', '=', 'c', '4', 'C', 'G', 'a', 'E', '5', 'F', '3', 'e', 'F', '6', 'E', 'D', 'd', 'a', 'B', '6', 'e', 'G', 'f', '2', '^', 'a', '_', 'G', 'G', '=', 'c', '4', 'C', 'G', 'a', 'E', '4', 'F', '3', 'e', 'F', '6', 'F', 'D', 'd', 'G', 'E', '6', 'e', 'G', 'f', '2', 'F', 'a', '^', 'G', 'D', 'B', 'c', '4', 'E', 'E', 'c', 'F', '5', 'a', '5', 'e', '_', 'A', 'C', 'D', 'c', 'a', 'F', '7', 'e', '_', 'f', '2', '^', 'a', '_', 'F', 'D', '=', 'd', '4', 'C', '_', 'c', 'F', '5', '^', '4', 'e', '^', '7', 'B', 'B', 'd', 'a', 'B', '6', 'e', 'F', 'e', '2', '^', 'a', '_', '^', '^', 'A', 'c', '4', 'C', 'F', 'a', 'E', '4', 'F', '3', 'e', 'G', '6', 'E', 'D', 'd', '_', 'C', '6', 'e', 'G', 'f', '2', 'G', 'a', '_', '^', 'G', 'B', 'd', '4', 'D', 'G', 'b', 'E', '5', 'G', '4', 'e', '^', '7', 'C', 'C', 'd', '_', 'F', '7', 'e', '^', 'f', '2', 'G', 'a', '_', 'G', 'D', 'A', 'd', '5', 'D', '^', 'c', 'F', '5', '_', '4', 'e', '_', '=', 'B', 'C', 'c', '7', '4', 'D', '2', '4', '3', 'B', 'C', 'a', '6', 'C', 'F', '_', '6', '^', '=', '4', 'B', 'C', '6', '7', 'G', '3', 'E', '^', 'E', 'E', '^', 'G', 'D', 'd', '5', 'B', '=', '=', 'D', 'a', '3', 'A', '=', 'C', '6', 'D', '=', '6', '^', 'F', '7', 'A', 'E', '4', 'F', 'F', 'F', 'B', 'a']\n"
          ],
          "name": "stdout"
        }
      ]
    },
    {
      "cell_type": "code",
      "metadata": {
        "colab": {
          "base_uri": "https://localhost:8080/"
        },
        "id": "Jbpo-qQhEmIo",
        "outputId": "4c9a17d0-0e03-4291-ffd8-08022e103774"
      },
      "source": [
        "str = ''.join([i for i in final])\n",
        "\n",
        "print(str)"
      ],
      "execution_count": null,
      "outputs": [
        {
          "output_type": "stream",
          "text": [
            "ggggfgEea4fgggggggggfgg2g2gg\n"
          ],
          "name": "stdout"
        }
      ]
    }
  ]
}